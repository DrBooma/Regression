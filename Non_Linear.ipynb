{
  "nbformat": 4,
  "nbformat_minor": 0,
  "metadata": {
    "kernelspec": {
      "display_name": "Python 3",
      "language": "python",
      "name": "python3"
    },
    "language_info": {
      "codemirror_mode": {
        "name": "ipython",
        "version": 3
      },
      "file_extension": ".py",
      "mimetype": "text/x-python",
      "name": "python",
      "nbconvert_exporter": "python",
      "pygments_lexer": "ipython3",
      "version": "3.6.7"
    },
    "colab": {
      "name": "Non Linear.ipynb",
      "provenance": [],
      "include_colab_link": true
    }
  },
  "cells": [
    {
      "cell_type": "markdown",
      "metadata": {
        "id": "view-in-github",
        "colab_type": "text"
      },
      "source": [
        "<a href=\"https://colab.research.google.com/github/DrBooma/Regression/blob/main/Non_Linear.ipynb\" target=\"_parent\"><img src=\"https://colab.research.google.com/assets/colab-badge.svg\" alt=\"Open In Colab\"/></a>"
      ]
    },
    {
      "cell_type": "code",
      "metadata": {
        "id": "Rqfch5MQwQ-m"
      },
      "source": [
        "from google.colab import drive\n",
        "drive.mount('/content/drive')"
      ],
      "execution_count": null,
      "outputs": []
    },
    {
      "cell_type": "code",
      "metadata": {
        "collapsed": true,
        "id": "Z6RV-S1AwJTH"
      },
      "source": [
        "import numpy as np\n",
        "\n",
        "%matplotlib inline\n",
        "import matplotlib.pyplot as plt\n",
        "\n",
        "from matplotlib import rcParams\n",
        "rcParams['figure.figsize'] = (10, 6)\n",
        "rcParams['legend.fontsize'] = 16\n",
        "rcParams['axes.labelsize'] = 16"
      ],
      "execution_count": null,
      "outputs": []
    },
    {
      "cell_type": "code",
      "metadata": {
        "collapsed": true,
        "id": "WzE-S-ZlwJTT"
      },
      "source": [
        "r = np.linspace(0, 5, 100)\n",
        "linear = r**2\n",
        "\n",
        "huber = r**2\n",
        "huber[huber > 1] = 2 * r[huber > 1] - 1\n",
        "\n",
        "soft_l1 = 2 * (np.sqrt(1 + r**2) - 1)\n",
        "\n",
        "cauchy = np.log1p(r**2)\n",
        "\n",
        "arctan = np.arctan(r**2)"
      ],
      "execution_count": null,
      "outputs": []
    },
    {
      "cell_type": "code",
      "metadata": {
        "id": "dP4u-drlwJTU"
      },
      "source": [
        "plt.plot(r, linear, label='linear')\n",
        "plt.plot(r, huber, label='huber')\n",
        "plt.plot(r, soft_l1, label='soft_l1')\n",
        "plt.plot(r, cauchy, label='cauchy')\n",
        "plt.plot(r, arctan, label='arctan')\n",
        "plt.xlabel(\"$r$\")\n",
        "plt.ylabel(r\"$\\rho(r^2)$\")\n",
        "plt.legend(loc='upper left');"
      ],
      "execution_count": null,
      "outputs": []
    },
    {
      "cell_type": "code",
      "metadata": {
        "collapsed": true,
        "id": "To01MF0WwJTX"
      },
      "source": [
        "def generate_data(t, A, sigma, omega, noise=0, n_outliers=0, random_state=0):\n",
        "    y = A * np.exp(-sigma * t) * np.sin(omega * t)\n",
        "    rnd = np.random.RandomState(random_state)\n",
        "    error = noise * rnd.randn(t.size)\n",
        "    outliers = rnd.randint(0, t.size, n_outliers)\n",
        "    error[outliers] *= 35\n",
        "    return y + error"
      ],
      "execution_count": null,
      "outputs": []
    },
    {
      "cell_type": "code",
      "metadata": {
        "collapsed": true,
        "id": "5Wjk39DywJTX"
      },
      "source": [
        "A = 2\n",
        "sigma = 0.1\n",
        "omega = 0.1 * 2 * np.pi\n",
        "x_true = np.array([A, sigma, omega])\n",
        "\n",
        "noise = 0.1\n",
        "\n",
        "t_min = 0\n",
        "t_max = 30"
      ],
      "execution_count": null,
      "outputs": []
    },
    {
      "cell_type": "code",
      "metadata": {
        "collapsed": true,
        "id": "G40XwU6DwJTY"
      },
      "source": [
        "t_train = np.linspace(t_min, t_max, 30)\n",
        "y_train = generate_data(t_train, A, sigma, omega, noise=noise, n_outliers=4)"
      ],
      "execution_count": null,
      "outputs": []
    },
    {
      "cell_type": "code",
      "metadata": {
        "collapsed": true,
        "id": "D6Ll1OSewJTZ"
      },
      "source": [
        "def fun(x, t, y):\n",
        "    return x[0] * np.exp(-x[1] * t) * np.sin(x[2] * t) - y"
      ],
      "execution_count": null,
      "outputs": []
    },
    {
      "cell_type": "code",
      "metadata": {
        "collapsed": true,
        "id": "OP9HJCzPwJTa"
      },
      "source": [
        "x0 = np.ones(3)"
      ],
      "execution_count": null,
      "outputs": []
    },
    {
      "cell_type": "code",
      "metadata": {
        "collapsed": true,
        "id": "nyHBxX35wJTb"
      },
      "source": [
        "from scipy.optimize import least_squares"
      ],
      "execution_count": null,
      "outputs": []
    },
    {
      "cell_type": "code",
      "metadata": {
        "collapsed": true,
        "id": "tqMLeEQxwJTb"
      },
      "source": [
        "res_lsq = least_squares(fun, x0, args=(t_train, y_train))"
      ],
      "execution_count": null,
      "outputs": []
    },
    {
      "cell_type": "code",
      "metadata": {
        "collapsed": true,
        "id": "5u9lLHQ4wJTc"
      },
      "source": [
        "res_robust = least_squares(fun, x0, loss='soft_l1', f_scale=0.1, args=(t_train, y_train))"
      ],
      "execution_count": null,
      "outputs": []
    },
    {
      "cell_type": "code",
      "metadata": {
        "collapsed": true,
        "id": "Heu1FzjfwJTc"
      },
      "source": [
        "t_test = np.linspace(t_min, t_max, 300)\n",
        "y_test = generate_data(t_test, A, sigma, omega)"
      ],
      "execution_count": null,
      "outputs": []
    },
    {
      "cell_type": "code",
      "metadata": {
        "collapsed": true,
        "id": "F0aZvFGjwJTd"
      },
      "source": [
        "y_lsq = generate_data(t_test, *res_lsq.x)\n",
        "y_robust = generate_data(t_test, *res_robust.x)"
      ],
      "execution_count": null,
      "outputs": []
    },
    {
      "cell_type": "code",
      "metadata": {
        "id": "5OkdzPw1wJTd"
      },
      "source": [
        "plt.plot(t_train, y_train, 'o', label='data')\n",
        "plt.plot(t_test, y_test, label='true')\n",
        "plt.plot(t_test, y_lsq, label='lsq')\n",
        "plt.plot(t_test, y_robust, label='robust lsq')\n",
        "plt.xlabel('$t$')\n",
        "plt.ylabel('$y$')\n",
        "plt.legend();"
      ],
      "execution_count": null,
      "outputs": []
    },
    {
      "cell_type": "code",
      "metadata": {
        "collapsed": true,
        "id": "lD7XnNKUwJTe"
      },
      "source": [
        ""
      ],
      "execution_count": null,
      "outputs": []
    }
  ]
}